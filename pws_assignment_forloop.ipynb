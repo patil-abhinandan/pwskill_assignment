{
 "cells": [
  {
   "cell_type": "markdown",
   "id": "c3237cb2",
   "metadata": {},
   "source": [
    "Q1. Explain with an example each when to use a for loop and a while loop."
   ]
  },
  {
   "cell_type": "markdown",
   "id": "4a441966",
   "metadata": {},
   "source": [
    "Ans: for loop and while loop, both are used to iterate the iterable object.\n",
    "    for loop doesn't evaluate the condition first where while loop first evaluate the condition and if condition satisfies then only it executes the loop.\n",
    "    "
   ]
  },
  {
   "cell_type": "code",
   "execution_count": 1,
   "id": "765198b3",
   "metadata": {},
   "outputs": [
    {
     "name": "stdout",
     "output_type": "stream",
     "text": [
      "0\n",
      "1\n",
      "2\n",
      "3\n",
      "4\n",
      "5\n",
      "6\n",
      "7\n",
      "8\n",
      "9\n"
     ]
    }
   ],
   "source": [
    "#for loop : before start the execution it finds his starting point and ending condition, \n",
    "#then goes inside loop completes execution and then beofre next iteration checks the condition and then goes again to loop\n",
    "for i in range(10):\n",
    "    print(i)"
   ]
  },
  {
   "cell_type": "code",
   "execution_count": 3,
   "id": "d1920013",
   "metadata": {},
   "outputs": [
    {
     "name": "stdout",
     "output_type": "stream",
     "text": [
      "1\n",
      "2\n",
      "3\n",
      "4\n",
      "5\n",
      "6\n",
      "7\n",
      "8\n",
      "9\n",
      "10\n"
     ]
    }
   ],
   "source": [
    "#while loop: while loop continues till it's condition gets satisfy, \n",
    "#in while loop we need to handle the stoping condition else it will go into infinite loop.\n",
    "\n",
    "a=1\n",
    "while a <=10 :\n",
    "    print(a)\n",
    "    a+=1  # without this statement while will go into infinite iterations.\n",
    "    "
   ]
  },
  {
   "cell_type": "markdown",
   "id": "8d0a9600",
   "metadata": {},
   "source": [
    "Q2. Write a python program to print the sum and product of the first 10 natural numbers using for\n",
    "and while loop."
   ]
  },
  {
   "cell_type": "code",
   "execution_count": 25,
   "id": "a90d590a",
   "metadata": {},
   "outputs": [
    {
     "name": "stdout",
     "output_type": "stream",
     "text": [
      "[2, 3, 4, 5, 6, 7, 8, 9, 10, 11]\n",
      "sum of first 10 natural numbers:  65\n",
      "sum of first 10 natural numbers using for loop:  65\n",
      "product of first 10 natural numbers using for loop: 39916800\n",
      "sum of first 10 natural numbers using while loop:  65\n",
      "product of first 10 natural numbers using while loop:  39916800\n"
     ]
    }
   ],
   "source": [
    "#1 sum-option 1\n",
    "l1=range(2,12)\n",
    "print(list(l1))\n",
    "print('sum of first 10 natural numbers: ',sum(list(l1)))\n",
    "\n",
    "#2 sum-option 2 using for loop\n",
    "final_sum=0\n",
    "for i in l1:\n",
    "    final_sum += i\n",
    "print('sum of first 10 natural numbers using for loop: ',final_sum)\n",
    "\n",
    "#3 product using for loop\n",
    "final_product=1\n",
    "for i in l1:\n",
    "    final_product *= i\n",
    "\n",
    "print('product of first 10 natural numbers using for loop:',final_product)\n",
    "\n",
    "#4 sum using while loop\n",
    "counter=2\n",
    "final_sum1=0\n",
    "while counter < 12 :\n",
    "    final_sum1 += counter\n",
    "    counter +=1\n",
    "\n",
    "print('sum of first 10 natural numbers using while loop: ',final_sum1)\n",
    "\n",
    "#4 product using while loop\n",
    "counter=2\n",
    "final_product1=1\n",
    "while counter < 12 :\n",
    "    final_product1 *= counter\n",
    "    counter +=1\n",
    "\n",
    "print('product of first 10 natural numbers using while loop: ',final_product1)"
   ]
  },
  {
   "cell_type": "markdown",
   "id": "77a8108c",
   "metadata": {},
   "source": [
    "Q3. Create a python program to compute the electricity bill for a household.\n",
    "The per-unit charges in rupees are as follows: For the first 100 units, the user will be charged Rs. 4.5 per\n",
    "unit, for the next 100 units, the user will be charged Rs. 6 per unit, and for the next 100 units, the user will\n",
    "be charged Rs. 10 per unit, After 300 units and above the user will be charged Rs. 20 per unit.\n",
    "You are required to take the units of electricity consumed in a month from the user as input.\n",
    "Your program must pass this test case: when the unit of electricity consumed by the user in a month is\n",
    "310, the total electricity bill should be 2250."
   ]
  },
  {
   "cell_type": "code",
   "execution_count": 35,
   "id": "bdd2f453",
   "metadata": {},
   "outputs": [
    {
     "name": "stdout",
     "output_type": "stream",
     "text": [
      "Please enter the electricity consumption of the current month:110\n",
      "total electricity bill for the consumption of 110 units =510.0 Rs\n"
     ]
    }
   ],
   "source": [
    "user_consumption=int(input(\"Please enter the electricity consumption of the current month:\"))\n",
    "\n",
    "consumption=user_consumption\n",
    "total_billing=0\n",
    "if consumption > 300:\n",
    "    units=consumption - 300\n",
    "    total_billing = total_billing + (units * 20)\n",
    "    consumption=300\n",
    "if consumption <=300 and consumption >200:\n",
    "    units=consumption - 200\n",
    "    total_billing = total_billing + (units * 10)\n",
    "    consumption=consumption -units\n",
    "    \n",
    "if consumption <=200 and consumption >100:\n",
    "    units=consumption - 100\n",
    "    total_billing = total_billing + (units * 6)\n",
    "    consumption=consumption -units\n",
    "    \n",
    "if consumption <=100 and consumption >0:\n",
    "    units=consumption\n",
    "    total_billing = total_billing + (units * 4.5)\n",
    "    \n",
    "print('total electricity bill for the consumption of {} units ={} Rs'.format(user_consumption,total_billing))\n",
    "    \n",
    "    "
   ]
  },
  {
   "cell_type": "markdown",
   "id": "c6710bfd",
   "metadata": {},
   "source": [
    "Q4. Create a list of numbers from 1 to 100. Use for loop and while loop to calculate the cube of each\n",
    "number and if the cube of that number is divisible by 4 or 5 then append that number in a list and print\n",
    "that list."
   ]
  },
  {
   "cell_type": "code",
   "execution_count": 40,
   "id": "3c6ccb67",
   "metadata": {},
   "outputs": [
    {
     "name": "stdout",
     "output_type": "stream",
     "text": [
      "[2, 4, 5, 6, 8, 10, 12, 14, 15, 16, 18, 20, 22, 24, 25, 26, 28, 30, 32, 34, 35, 36, 38, 40, 42, 44, 45, 46, 48, 50, 52, 54, 55, 56, 58, 60, 62, 64, 65, 66, 68, 70, 72, 74, 75, 76, 78, 80, 82, 84, 85, 86, 88, 90, 92, 94, 95, 96, 98, 100]\n"
     ]
    }
   ],
   "source": [
    "l2=list(range(1,101))\n",
    "l3=[]\n",
    "for i in l2:\n",
    "    if (i**3) % 4==0 or(i**3) % 5==0:\n",
    "        l3.append(i)\n",
    "print(l3)\n"
   ]
  },
  {
   "cell_type": "markdown",
   "id": "4e338472",
   "metadata": {},
   "source": [
    "Q5. Write a program to filter count vowels in the below-given string.\n",
    "string = \"I want to become a data scientist\""
   ]
  },
  {
   "cell_type": "code",
   "execution_count": 42,
   "id": "86fdca8c",
   "metadata": {},
   "outputs": [
    {
     "name": "stdout",
     "output_type": "stream",
     "text": [
      "vowels count in string: 12\n"
     ]
    }
   ],
   "source": [
    "vowels='aeiou'\n",
    "\n",
    "s= \"I want to become a data scientist\"\n",
    "count=0\n",
    "for i in s.lower():\n",
    "    if i in vowels:\n",
    "        count +=1\n",
    "\n",
    "print('vowels count in string:',count)"
   ]
  }
 ],
 "metadata": {
  "kernelspec": {
   "display_name": "Python 3",
   "language": "python",
   "name": "python3"
  },
  "language_info": {
   "codemirror_mode": {
    "name": "ipython",
    "version": 3
   },
   "file_extension": ".py",
   "mimetype": "text/x-python",
   "name": "python",
   "nbconvert_exporter": "python",
   "pygments_lexer": "ipython3",
   "version": "3.8.8"
  }
 },
 "nbformat": 4,
 "nbformat_minor": 5
}
