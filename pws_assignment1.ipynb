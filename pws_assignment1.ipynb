{
 "cells": [
  {
   "cell_type": "code",
   "execution_count": 6,
   "id": "077329d5",
   "metadata": {},
   "outputs": [
    {
     "name": "stdout",
     "output_type": "stream",
     "text": [
      "who developed python programming language? Ans= Guido van Rossum\n"
     ]
    }
   ],
   "source": [
    "q1=input(\"who developed python programming language? Ans= \")"
   ]
  },
  {
   "cell_type": "code",
   "execution_count": 5,
   "id": "08a5a176",
   "metadata": {},
   "outputs": [
    {
     "name": "stdout",
     "output_type": "stream",
     "text": [
      "which type of programming does python support? Ans= python supports structured and object oriented programming\n"
     ]
    }
   ],
   "source": [
    "q2=input(\"which type of programming does python support? Ans= \")"
   ]
  },
  {
   "cell_type": "markdown",
   "id": "48cc56f6",
   "metadata": {},
   "source": [
    "Ans= python supports structured and object oriented programming"
   ]
  },
  {
   "cell_type": "code",
   "execution_count": null,
   "id": "3259535b",
   "metadata": {},
   "outputs": [],
   "source": []
  }
 ],
 "metadata": {
  "kernelspec": {
   "display_name": "Python 3",
   "language": "python",
   "name": "python3"
  },
  "language_info": {
   "codemirror_mode": {
    "name": "ipython",
    "version": 3
   },
   "file_extension": ".py",
   "mimetype": "text/x-python",
   "name": "python",
   "nbconvert_exporter": "python",
   "pygments_lexer": "ipython3",
   "version": "3.8.8"
  }
 },
 "nbformat": 4,
 "nbformat_minor": 5
}
