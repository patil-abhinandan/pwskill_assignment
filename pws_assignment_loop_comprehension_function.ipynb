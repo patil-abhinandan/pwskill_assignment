{
 "cells": [
  {
   "cell_type": "markdown",
   "id": "073cdf9b",
   "metadata": {},
   "source": [
    "Q1. Which keyword is used to create a function? Create a function to return a list of odd numbers in the\n",
    "range of 1 to 25."
   ]
  },
  {
   "cell_type": "markdown",
   "id": "059e1c4b",
   "metadata": {},
   "source": [
    "Ans: def keyword is use to creating new function"
   ]
  },
  {
   "cell_type": "code",
   "execution_count": 4,
   "id": "0603efba",
   "metadata": {},
   "outputs": [
    {
     "name": "stdout",
     "output_type": "stream",
     "text": [
      "[1, 3, 5, 7, 9, 11, 13, 15, 17, 19, 21, 23, 25, 27, 29, 31, 33, 35, 37, 39, 41, 43, 45, 47, 49]\n"
     ]
    }
   ],
   "source": [
    "def odd_number(n):\n",
    "    l=range(1,n+1)\n",
    "    return [i for i in l if i%2!=0 ]\n",
    "\n",
    "print(odd_number(50))\n",
    "        "
   ]
  },
  {
   "cell_type": "markdown",
   "id": "2ad195dd",
   "metadata": {},
   "source": [
    "Q2. Why *args and **kwargs is used in some functions? Create a function each for *args and **kwargs\n",
    "to demonstrate their use."
   ]
  },
  {
   "cell_type": "markdown",
   "id": "0d9f36c3",
   "metadata": {},
   "source": [
    "args: args is function parameter argument which can accept any number of inputs. it maintains the input in tuple type.\n",
    "    "
   ]
  },
  {
   "cell_type": "code",
   "execution_count": 23,
   "id": "29f35d88",
   "metadata": {},
   "outputs": [
    {
     "name": "stdout",
     "output_type": "stream",
     "text": [
      "12\n",
      "29\n"
     ]
    }
   ],
   "source": [
    "def addition(*args):\n",
    "    sum=0\n",
    "    \n",
    "    for num in args:\n",
    "        sum=sum+num\n",
    "    return sum\n",
    "    \n",
    "print(addition(1,2,3,6))\n",
    "print(addition(1,2,3,6,2,3,12))"
   ]
  },
  {
   "cell_type": "code",
   "execution_count": 30,
   "id": "481eb4db",
   "metadata": {},
   "outputs": [
    {
     "name": "stdout",
     "output_type": "stream",
     "text": [
      "55\n",
      "85\n"
     ]
    }
   ],
   "source": [
    "def addition_kwargs(**kwargs):\n",
    "    sum=0\n",
    "    for key, value in kwargs.items():\n",
    "        sum=sum+value\n",
    "   \n",
    "    return sum\n",
    "\n",
    "print(addition_kwargs(day1=10,day2=45))\n",
    "print(addition_kwargs(day1=10,day2=45,day3=30))"
   ]
  },
  {
   "cell_type": "markdown",
   "id": "642bc081",
   "metadata": {},
   "source": [
    "Q3. What is an iterator in python? Name the method used to initialise the iterator object and the method\n",
    "used for iteration. Use these methods to print the first five elements of the given list [2, 4, 6, 8, 10, 12, 14,\n",
    "16, 18, 20]."
   ]
  },
  {
   "cell_type": "markdown",
   "id": "764bbe84",
   "metadata": {},
   "source": [
    "Ans: iterator is an object. we can traverse through all the data of the object.\n",
    "    object can be initialise using the iter() method, means we can create iterator using iter() object. and next() can be used to traverse through the object.\n"
   ]
  },
  {
   "cell_type": "code",
   "execution_count": 31,
   "id": "61b7f525",
   "metadata": {},
   "outputs": [
    {
     "name": "stdout",
     "output_type": "stream",
     "text": [
      "2\n",
      "4\n",
      "6\n",
      "8\n",
      "10\n"
     ]
    }
   ],
   "source": [
    "l1=[2, 4, 6, 8, 10, 12, 14, 16, 18, 20]\n",
    "\n",
    "lst=iter(l1)\n",
    "print(next(lst))\n",
    "print(next(lst))\n",
    "print(next(lst))\n",
    "print(next(lst))\n",
    "print(next(lst))"
   ]
  },
  {
   "cell_type": "markdown",
   "id": "9f3ccfde",
   "metadata": {},
   "source": [
    "Q4. What is a generator function in python? Why yield keyword is used? Give an example of a generator\n",
    "function."
   ]
  },
  {
   "cell_type": "markdown",
   "id": "a338c356",
   "metadata": {},
   "source": [
    "Ans: Generator funtion is used for memory optimization. Generator function is like normal function only it return the value using yield keyword whenever required."
   ]
  },
  {
   "cell_type": "code",
   "execution_count": 48,
   "id": "35eb684e",
   "metadata": {},
   "outputs": [
    {
     "name": "stdout",
     "output_type": "stream",
     "text": [
      "1\n",
      "2\n",
      "6\n"
     ]
    }
   ],
   "source": [
    "def get_int(data):\n",
    "    for i in data:\n",
    "        if type(i)==int:\n",
    "            yield i\n",
    "\n",
    "d=get_int([1,2,'r',6,40.9])\n",
    "\n",
    "for i in d:\n",
    "    print(i)"
   ]
  },
  {
   "cell_type": "markdown",
   "id": "221bff57",
   "metadata": {},
   "source": [
    "Q5. Create a generator function for prime numbers less than 1000. Use the next() method to print the\n",
    "first 20 prime numbers."
   ]
  },
  {
   "cell_type": "code",
   "execution_count": 50,
   "id": "9b7ee33b",
   "metadata": {},
   "outputs": [
    {
     "name": "stdout",
     "output_type": "stream",
     "text": [
      "2\n",
      "3\n",
      "5\n",
      "7\n",
      "11\n",
      "13\n",
      "17\n",
      "19\n",
      "23\n",
      "29\n",
      "31\n",
      "37\n",
      "41\n",
      "43\n",
      "47\n",
      "53\n",
      "59\n",
      "61\n",
      "67\n",
      "71\n"
     ]
    }
   ],
   "source": [
    "def prime_num(counter):\n",
    "    for num in range(2,counter+1):\n",
    "        for i in range(2,num):\n",
    "            if num % i ==0:\n",
    "                break\n",
    "        else:\n",
    "            yield num\n",
    "p=prime_num(1000)\n",
    "\n",
    "for i in range(20):\n",
    "    print(next(p))"
   ]
  },
  {
   "cell_type": "markdown",
   "id": "49581c63",
   "metadata": {},
   "source": [
    "Q6. Write a python program to print the first 10 Fibonacci numbers using a while loop."
   ]
  },
  {
   "cell_type": "code",
   "execution_count": 57,
   "id": "aec580b8",
   "metadata": {},
   "outputs": [
    {
     "name": "stdout",
     "output_type": "stream",
     "text": [
      "0\n",
      "1\n",
      "1\n",
      "2\n",
      "3\n",
      "5\n",
      "8\n",
      "13\n",
      "21\n",
      "34\n"
     ]
    }
   ],
   "source": [
    "def get_fibinacci():\n",
    "    \n",
    "    a,b=0,1\n",
    "    while True:\n",
    "        yield a\n",
    "        a,b=b,a+b\n",
    "\n",
    "f=get_fibinacci()\n",
    "        \n",
    "for i in range(10):\n",
    "    print(next(f))"
   ]
  },
  {
   "cell_type": "markdown",
   "id": "3d8f2bfe",
   "metadata": {},
   "source": [
    "Q7. Write a List Comprehension to iterate through the given string: ‘pwskills’.\n",
    "Expected output: ['p', 'w', 's', 'k', 'i', 'l', 'l', 's']"
   ]
  },
  {
   "cell_type": "code",
   "execution_count": 33,
   "id": "db66a11a",
   "metadata": {},
   "outputs": [
    {
     "name": "stdout",
     "output_type": "stream",
     "text": [
      "['p', 'w', 's', 'k', 'i', 'l', 'l', 's']\n"
     ]
    }
   ],
   "source": [
    "s1='pwskills'\n",
    "print([i for i in s1])\n"
   ]
  },
  {
   "cell_type": "markdown",
   "id": "bf957ce3",
   "metadata": {},
   "source": [
    "Q8. Write a python program to check whether a given number is Palindrome or not using a while loop."
   ]
  },
  {
   "cell_type": "code",
   "execution_count": 41,
   "id": "a9254190",
   "metadata": {},
   "outputs": [
    {
     "name": "stdout",
     "output_type": "stream",
     "text": [
      "enter any number to check as palindrome: print\n",
      "print is not palindrome!\n"
     ]
    }
   ],
   "source": [
    "user_input=input(\"enter any number to check as palindrome: \")\n",
    "\n",
    "input_len=len(user_input)\n",
    "\n",
    "temp_str=\"\"\n",
    "while input_len > 0:\n",
    "    temp_str=temp_str + user_input[input_len -1]\n",
    "    input_len=input_len-1\n",
    "    \n",
    "if user_input==temp_str:\n",
    "    print(\"{} is palindrome!\".format(user_input))\n",
    "else:\n",
    "    print(\"{} is not palindrome!\".format(user_input))\n",
    "    "
   ]
  },
  {
   "cell_type": "markdown",
   "id": "f3e259fd",
   "metadata": {},
   "source": [
    "Q9. Write a code to print odd numbers from 1 to 100 using list comprehension.\n",
    "Note: Use a list comprehension to create a list from 1 to 100 and use another List comprehension to filter\n",
    "out odd numbers."
   ]
  },
  {
   "cell_type": "code",
   "execution_count": 45,
   "id": "cc607d02",
   "metadata": {},
   "outputs": [
    {
     "data": {
      "text/plain": [
       "[1,\n",
       " 3,\n",
       " 5,\n",
       " 7,\n",
       " 9,\n",
       " 11,\n",
       " 13,\n",
       " 15,\n",
       " 17,\n",
       " 19,\n",
       " 21,\n",
       " 23,\n",
       " 25,\n",
       " 27,\n",
       " 29,\n",
       " 31,\n",
       " 33,\n",
       " 35,\n",
       " 37,\n",
       " 39,\n",
       " 41,\n",
       " 43,\n",
       " 45,\n",
       " 47,\n",
       " 49,\n",
       " 51,\n",
       " 53,\n",
       " 55,\n",
       " 57,\n",
       " 59,\n",
       " 61,\n",
       " 63,\n",
       " 65,\n",
       " 67,\n",
       " 69,\n",
       " 71,\n",
       " 73,\n",
       " 75,\n",
       " 77,\n",
       " 79,\n",
       " 81,\n",
       " 83,\n",
       " 85,\n",
       " 87,\n",
       " 89,\n",
       " 91,\n",
       " 93,\n",
       " 95,\n",
       " 97,\n",
       " 99]"
      ]
     },
     "execution_count": 45,
     "metadata": {},
     "output_type": "execute_result"
    }
   ],
   "source": [
    "l2=[i for i in range(1,101)]\n",
    "l3=[i for i in  l2 if i%2!=0]\n",
    "l3"
   ]
  }
 ],
 "metadata": {
  "kernelspec": {
   "display_name": "Python 3",
   "language": "python",
   "name": "python3"
  },
  "language_info": {
   "codemirror_mode": {
    "name": "ipython",
    "version": 3
   },
   "file_extension": ".py",
   "mimetype": "text/x-python",
   "name": "python",
   "nbconvert_exporter": "python",
   "pygments_lexer": "ipython3",
   "version": "3.8.8"
  }
 },
 "nbformat": 4,
 "nbformat_minor": 5
}
